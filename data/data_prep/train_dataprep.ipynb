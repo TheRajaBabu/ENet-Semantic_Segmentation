{
 "cells": [
  {
   "cell_type": "code",
   "execution_count": null,
   "metadata": {
    "scrolled": true
   },
   "outputs": [],
   "source": [
    "import cv2\n",
    "import numpy as np\n",
    "from os import listdir\n",
    "import matplotlib.pyplot as plt\n",
    "\n",
    "count_img_raw = 0\n",
    "foo = 0\n",
    "count_img_sq = 0\n",
    "\n",
    "for filename in listdir('raw_data/image/'):\n",
    "    count_img_raw += 1\n",
    "    \n",
    "    caption = str(filename) \n",
    "    caption = caption[:-4]\n",
    "    #print('%s' % (caption))\n",
    "    img_get = cv2.imread('raw_data/image/' + filename,1)\n",
    "    height, width, channels = img_get.shape\n",
    "    \n",
    "    min_px = min(height,width)\n",
    "    div = min_px/512;\n",
    "    div = int(div)\n",
    "    \n",
    "    #saving square image \n",
    "    dim = (div*512,div*512)\n",
    "    sq = cv2.resize(img_get, dim)\n",
    "    count_img_sq += 1\n",
    "    #cv2.imwrite('final/train/' + 'sqaure_image_' + str(count_img_sq) + '.png', sq)\n",
    "   \n",
    "    x = 0\n",
    "    crop = 0\n",
    "    while (x < div*512):\n",
    "        y = 0\n",
    "        crop += 1\n",
    "        while (y < div*512):\n",
    "            crop_img = sq[x:x+512, y:y+512]\n",
    "            \n",
    "            foo += 1\n",
    "            cv2.imwrite('final_data/train/' + str(caption) + '_crop' + str(crop) + '_a' + '.png', crop_img)\n",
    "            print('Saved final_image_%s.png ' % (foo))\n",
    "            \n",
    "            foo += 1\n",
    "            rot_img = cv2.rotate(crop_img, cv2.ROTATE_90_CLOCKWISE)\n",
    "            cv2.imwrite('final_data/train/' + str(caption) + '_crop' + str(crop) + '_b' + '.png', rot_img)\n",
    "            print('Saved final_image_%s.png ' % (foo))\n",
    "            \n",
    "            foo += 1\n",
    "            rot_img = cv2.rotate(crop_img, cv2.ROTATE_90_COUNTERCLOCKWISE)\n",
    "            cv2.imwrite('final_data/train/' + str(caption) + '_crop' + str(crop) + '_c' +  '.png', rot_img)\n",
    "            print('Saved final_image_%s.png ' % (foo))\n",
    "            \n",
    "            foo += 1\n",
    "            flip_img = cv2.flip(crop_img,-1)\n",
    "            cv2.imwrite('final_data/train/' + str(caption) + '_crop' + str(crop) + '_d'  + '.png', flip_img)\n",
    "            print('Saved final_image_%s.png ' % (foo))\n",
    "            \n",
    "            y += 512\n",
    "            crop += 1\n",
    "        x += 512 \n",
    "      \n",
    " \n",
    "    \n",
    "print('Size: %s , Channels: %s' % (512*div, channels)) \n",
    "print('Total Raw Image : %s' % (count_img_raw))\n"
   ]
  },
  {
   "cell_type": "code",
   "execution_count": null,
   "metadata": {},
   "outputs": [],
   "source": []
  }
 ],
 "metadata": {
  "kernelspec": {
   "display_name": "Python 3",
   "language": "python",
   "name": "python3"
  },
  "language_info": {
   "codemirror_mode": {
    "name": "ipython",
    "version": 3
   },
   "file_extension": ".py",
   "mimetype": "text/x-python",
   "name": "python",
   "nbconvert_exporter": "python",
   "pygments_lexer": "ipython3",
   "version": "3.7.5"
  }
 },
 "nbformat": 4,
 "nbformat_minor": 2
}
